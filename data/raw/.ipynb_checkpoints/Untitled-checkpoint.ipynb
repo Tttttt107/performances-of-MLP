{
 "cells": [
  {
   "cell_type": "code",
   "execution_count": 1,
   "metadata": {},
   "outputs": [],
   "source": [
    "import numpy as np\n",
    "import pandas as pd\n",
    "import matplotlib.pyplot as plt"
   ]
  },
  {
   "cell_type": "code",
   "execution_count": 6,
   "metadata": {},
   "outputs": [
    {
     "data": {
      "text/html": [
       "<div>\n",
       "<style scoped>\n",
       "    .dataframe tbody tr th:only-of-type {\n",
       "        vertical-align: middle;\n",
       "    }\n",
       "\n",
       "    .dataframe tbody tr th {\n",
       "        vertical-align: top;\n",
       "    }\n",
       "\n",
       "    .dataframe thead th {\n",
       "        text-align: right;\n",
       "    }\n",
       "</style>\n",
       "<table border=\"1\" class=\"dataframe\">\n",
       "  <thead>\n",
       "    <tr style=\"text-align: right;\">\n",
       "      <th></th>\n",
       "      <th>Mean</th>\n",
       "      <th>Std</th>\n",
       "      <th>Diff1</th>\n",
       "      <th>Diff2</th>\n",
       "      <th>PCAd1</th>\n",
       "      <th>PCAd2</th>\n",
       "    </tr>\n",
       "  </thead>\n",
       "  <tbody>\n",
       "    <tr>\n",
       "      <th>0</th>\n",
       "      <td>0.843184</td>\n",
       "      <td>0.185235</td>\n",
       "      <td>0.012203</td>\n",
       "      <td>0.114446</td>\n",
       "      <td>0.017396</td>\n",
       "      <td>0.102197</td>\n",
       "    </tr>\n",
       "    <tr>\n",
       "      <th>1</th>\n",
       "      <td>0.859247</td>\n",
       "      <td>0.106347</td>\n",
       "      <td>0.003125</td>\n",
       "      <td>0.213642</td>\n",
       "      <td>0.017052</td>\n",
       "      <td>0.107497</td>\n",
       "    </tr>\n",
       "    <tr>\n",
       "      <th>2</th>\n",
       "      <td>0.848619</td>\n",
       "      <td>0.129744</td>\n",
       "      <td>0.006687</td>\n",
       "      <td>0.059411</td>\n",
       "      <td>0.017846</td>\n",
       "      <td>0.108474</td>\n",
       "    </tr>\n",
       "    <tr>\n",
       "      <th>3</th>\n",
       "      <td>0.867164</td>\n",
       "      <td>0.097041</td>\n",
       "      <td>0.002018</td>\n",
       "      <td>0.262512</td>\n",
       "      <td>0.017393</td>\n",
       "      <td>0.107333</td>\n",
       "    </tr>\n",
       "    <tr>\n",
       "      <th>4</th>\n",
       "      <td>0.942067</td>\n",
       "      <td>0.033819</td>\n",
       "      <td>0.001625</td>\n",
       "      <td>0.297624</td>\n",
       "      <td>0.019180</td>\n",
       "      <td>0.107844</td>\n",
       "    </tr>\n",
       "    <tr>\n",
       "      <th>5</th>\n",
       "      <td>0.951012</td>\n",
       "      <td>0.026814</td>\n",
       "      <td>0.002343</td>\n",
       "      <td>0.248029</td>\n",
       "      <td>0.019654</td>\n",
       "      <td>0.110083</td>\n",
       "    </tr>\n",
       "    <tr>\n",
       "      <th>6</th>\n",
       "      <td>0.927832</td>\n",
       "      <td>0.081067</td>\n",
       "      <td>0.008305</td>\n",
       "      <td>0.058215</td>\n",
       "      <td>0.023764</td>\n",
       "      <td>0.117404</td>\n",
       "    </tr>\n",
       "    <tr>\n",
       "      <th>7</th>\n",
       "      <td>0.892238</td>\n",
       "      <td>0.072701</td>\n",
       "      <td>0.003660</td>\n",
       "      <td>0.246357</td>\n",
       "      <td>0.018728</td>\n",
       "      <td>0.117156</td>\n",
       "    </tr>\n",
       "    <tr>\n",
       "      <th>8</th>\n",
       "      <td>0.855488</td>\n",
       "      <td>0.064755</td>\n",
       "      <td>0.006905</td>\n",
       "      <td>0.188945</td>\n",
       "      <td>0.020742</td>\n",
       "      <td>0.115275</td>\n",
       "    </tr>\n",
       "    <tr>\n",
       "      <th>9</th>\n",
       "      <td>0.931014</td>\n",
       "      <td>0.035632</td>\n",
       "      <td>0.003222</td>\n",
       "      <td>0.299637</td>\n",
       "      <td>0.019778</td>\n",
       "      <td>0.115637</td>\n",
       "    </tr>\n",
       "  </tbody>\n",
       "</table>\n",
       "</div>"
      ],
      "text/plain": [
       "       Mean       Std     Diff1     Diff2     PCAd1     PCAd2\n",
       "0  0.843184  0.185235  0.012203  0.114446  0.017396  0.102197\n",
       "1  0.859247  0.106347  0.003125  0.213642  0.017052  0.107497\n",
       "2  0.848619  0.129744  0.006687  0.059411  0.017846  0.108474\n",
       "3  0.867164  0.097041  0.002018  0.262512  0.017393  0.107333\n",
       "4  0.942067  0.033819  0.001625  0.297624  0.019180  0.107844\n",
       "5  0.951012  0.026814  0.002343  0.248029  0.019654  0.110083\n",
       "6  0.927832  0.081067  0.008305  0.058215  0.023764  0.117404\n",
       "7  0.892238  0.072701  0.003660  0.246357  0.018728  0.117156\n",
       "8  0.855488  0.064755  0.006905  0.188945  0.020742  0.115275\n",
       "9  0.931014  0.035632  0.003222  0.299637  0.019778  0.115637"
      ]
     },
     "execution_count": 6,
     "metadata": {},
     "output_type": "execute_result"
    }
   ],
   "source": [
    "data = pd.read_csv(\"anger.csv\")\n",
    "data = data.drop(['index', 'Video','Label'], axis = 1)\n",
    "data.head(10)"
   ]
  },
  {
   "cell_type": "code",
   "execution_count": 7,
   "metadata": {},
   "outputs": [
    {
     "name": "stdout",
     "output_type": "stream",
     "text": [
      "0.8890901472513797\n"
     ]
    }
   ],
   "source": [
    "mean1 = data['Mean'].mean()\n",
    "mean2 = data['Std'].mean()\n",
    "mean3 = data['Diff1'].mean()\n",
    "mean4 = data['Diff2'].mean()\n",
    "mean5 = data['PCAd1'].mean()\n",
    "mean6 = data['PCAd2'].mean()\n",
    "\n",
    "print(mean1)"
   ]
  },
  {
   "cell_type": "code",
   "execution_count": 11,
   "metadata": {},
   "outputs": [
    {
     "data": {
      "image/png": "[encoded data removed]",
      "text/plain": [
       "<Figure size 864x576 with 1 Axes>"
      ]
     },
     "metadata": {
      "needs_background": "light"
     },
     "output_type": "display_data"
    }
   ],
   "source": [
    "fig = plt.figure(figsize=(12,8))\n",
    "name_list = ['mean', 'std', 'diff1', 'diff2', 'PCAd1', 'PCAd2']\n",
    "num_list = [mean1, mean2, mean3, mean4, mean5, mean6]\n",
    "\n",
    "plt.bar(range(len(num_list)), num_list,tick_label=name_list)\n",
    "\n",
    "plt.show()"
   ]
  },
  {
   "cell_type": "code",
   "execution_count": null,
   "metadata": {},
   "outputs": [],
   "source": []
  }
 ],
 "metadata": {
  "kernelspec": {
   "display_name": "Python 3",
   "language": "python",
   "name": "python3"
  },
  "language_info": {
   "codemirror_mode": {
    "name": "ipython",
    "version": 3
   },
   "file_extension": ".py",
   "mimetype": "text/x-python",
   "name": "python",
   "nbconvert_exporter": "python",
   "pygments_lexer": "ipython3",
   "version": "3.7.7"
  }
 },
 "nbformat": 4,
 "nbformat_minor": 4
}
